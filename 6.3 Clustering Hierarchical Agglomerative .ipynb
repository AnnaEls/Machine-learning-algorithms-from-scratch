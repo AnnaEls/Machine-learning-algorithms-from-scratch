{
 "cells": [
  {
   "cell_type": "code",
   "execution_count": 3,
   "id": "2984e2d9",
   "metadata": {},
   "outputs": [],
   "source": [
    "import numpy as np\n",
    "import pandas as pd"
   ]
  },
  {
   "cell_type": "code",
   "execution_count": 144,
   "id": "87947431",
   "metadata": {},
   "outputs": [],
   "source": [
    "from sklearn.datasets import make_blobs\n",
    "\n",
    "X, _ = make_blobs(n_samples=100, centers=5, n_features=5, cluster_std=2.5, random_state=42)\n",
    "X = pd.DataFrame(X)\n",
    "X.columns = [f'col_{col}' for col in X.columns]"
   ]
  },
  {
   "cell_type": "code",
   "execution_count": 188,
   "id": "69a31518",
   "metadata": {},
   "outputs": [],
   "source": [
    "class MyAgglomerative():\n",
    "    def __init__(self, n_clusters = 3, metric = 'euclidean'):\n",
    "        self.n_clusters= n_clusters\n",
    "        self.metric = metric\n",
    "        \n",
    "        self.clusters = {}\n",
    "        self.clusters_centroids = {}\n",
    "        self.X = None\n",
    "        \n",
    "    def __repr__(self):\n",
    "        return f'MyAgglomerative class: n_clusters={self.n_clusters}'\n",
    "    \n",
    "    def fit_predict(self, X): #X - pandas dataframe        \n",
    "        \n",
    "        self.X = X.reset_index(drop=True)\n",
    "        \n",
    "        #Initially, each point corresponds to one cluster\n",
    "        for row in range(self.X.shape[0]):\n",
    "            self.clusters[row+1] = [row]\n",
    "            self.clusters_centroids[row+1] = self.X.loc[row,:].values\n",
    "            \n",
    "        #clustering beging\n",
    "        while len(self.clusters) > self.n_clusters:\n",
    "        \n",
    "            min_D = float('inf')\n",
    "            for i in range(len(self.clusters)-1):\n",
    "                for j in np.arange(i+1, len(self.clusters), 1):\n",
    "                    D = self.get_distance(list(self.clusters_centroids.values())[i],list(self.clusters_centroids.values())[j])\n",
    "                    if D <  min_D:\n",
    "                        min_D = D\n",
    "                        min_idx = [i,j]\n",
    "                        min_i = list(self.clusters)[i]\n",
    "                        min_j = list(self.clusters)[j]\n",
    "                \n",
    "           \n",
    "            values_i = self.clusters.get(min_i)\n",
    "            values_j = self.clusters.get(min_j)\n",
    "            self.clusters[min_i] = values_i + values_j\n",
    "            del self.clusters[min_j]\n",
    "            \n",
    "            self.clusters_centroids[min_i] = self.X.loc[self.clusters[min_i],:].mean().values\n",
    "            del self.clusters_centroids[min_j]\n",
    "            \n",
    "        clusters = sorted(self.clusters_centroids.keys()) \n",
    "        \n",
    "        y = np.zeros(X.shape[0])\n",
    "        \n",
    "        for k, cluster in enumerate(clusters):\n",
    "            rows = self.clusters.get(cluster)\n",
    "            for row in rows:\n",
    "                y[row] = k+1\n",
    "        \n",
    "        return y\n",
    "            \n",
    "        \n",
    "    def get_distance(self, x1, x2): #x1, x2 - numpy arrays or numbers\n",
    "        if self.metric == 'euclidean':\n",
    "            return np.sqrt(np.sum(np.square(x2-x1)))\n",
    "        elif self.metric == 'chebyshev':\n",
    "            return np.max(np.abs(x2-x1))\n",
    "        elif self.metric == 'manhattan':\n",
    "            return np.sum(np.abs(x2-x1))\n",
    "        elif self.metric == 'cosine':\n",
    "            return 1- np.dot(x1,x2)/(np.sqrt(np.sum(np.square(x2)))+np.sqrt(np.sum(np.square(x1))))        \n",
    "    \n",
    "    "
   ]
  }
 ],
 "metadata": {
  "kernelspec": {
   "display_name": "Python 3",
   "language": "python",
   "name": "python3"
  },
  "language_info": {
   "codemirror_mode": {
    "name": "ipython",
    "version": 3
   },
   "file_extension": ".py",
   "mimetype": "text/x-python",
   "name": "python",
   "nbconvert_exporter": "python",
   "pygments_lexer": "ipython3",
   "version": "3.8.10"
  }
 },
 "nbformat": 4,
 "nbformat_minor": 5
}
